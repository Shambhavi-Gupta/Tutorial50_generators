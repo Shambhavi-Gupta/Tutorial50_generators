{
  "nbformat": 4,
  "nbformat_minor": 0,
  "metadata": {
    "colab": {
      "name": "Tutorial50_generators.ipynb",
      "provenance": [],
      "authorship_tag": "ABX9TyP9vsov5ILllJabsZUBtanD",
      "include_colab_link": true
    },
    "kernelspec": {
      "name": "python3",
      "display_name": "Python 3"
    }
  },
  "cells": [
    {
      "cell_type": "markdown",
      "metadata": {
        "id": "view-in-github",
        "colab_type": "text"
      },
      "source": [
        "<a href=\"https://colab.research.google.com/github/Shambhavi-Gupta/Tutorial50_generators/blob/main/Tutorial50_generators.ipynb\" target=\"_parent\"><img src=\"https://colab.research.google.com/assets/colab-badge.svg\" alt=\"Open In Colab\"/></a>"
      ]
    },
    {
      "cell_type": "code",
      "metadata": {
        "id": "Ou7efwLQl-CR"
      },
      "source": [
        "def one(a,b):\r\n",
        "    yield a\r\n",
        "    yield b\r\n",
        "# p,q = one(2,4)\r\n",
        "# print(p)\r\n",
        "# print(q)\r\n",
        "# final = one(2,4)\r\n",
        "# print(final)\r\n",
        "# print(type(final))\r\n",
        "# list1 = list(final)\r\n",
        "# print(list1)\r\n",
        "# print(type(list1))\r\n",
        "\r\n",
        "# def one(a,b):\r\n",
        "#     yield a\r\n",
        "#     yield b\r\n",
        "# final = one(2,4)\r\n",
        "# print(final)\r\n",
        "# print(type(final))\r\n",
        "#\r\n",
        "# print(next(final))\r\n",
        "# print(next(final))\r\n",
        "def two(a,b):\r\n",
        "    while a<=b:\r\n",
        "        yield a\r\n",
        "        a = a+1\r\n",
        "final = two(2,5)\r\n",
        "print(final)\r\n",
        "print(type(final))\r\n",
        "\r\n",
        "print(next(final))\r\n",
        "print(next(final))\r\n",
        "print(next(final))\r\n",
        "print(next(final))\r\n",
        "\r\n"
      ],
      "execution_count": null,
      "outputs": []
    }
  ]
}